{
 "cells": [
  {
   "cell_type": "code",
   "execution_count": 12,
   "metadata": {},
   "outputs": [],
   "source": [
    "import win32com.client as wincl\n",
    "\n",
    "#speak.Speak(\"Okay Google esta bien google que tiempo hace hoy\")"
   ]
  },
  {
   "cell_type": "code",
   "execution_count": 13,
   "metadata": {},
   "outputs": [],
   "source": [
    "import speech_recognition as sr"
   ]
  },
  {
   "cell_type": "code",
   "execution_count": 14,
   "metadata": {},
   "outputs": [],
   "source": [
    "words = ['hello there', 'What is the weather today', 'play any song']\n",
    "speak = wincl.Dispatch(\"SAPI.SpVoice\")\n",
    "r = sr.Recognizer()"
   ]
  },
  {
   "cell_type": "code",
   "execution_count": 15,
   "metadata": {},
   "outputs": [
    {
     "name": "stdout",
     "output_type": "stream",
     "text": [
      "listening..\n",
      "Speech to Text: hello\n",
      "Next Sentence.. \n",
      "listening..\n",
      "Speech to Text: the weather is 12 degrees\n",
      "Next Sentence.. \n",
      "listening..\n",
      "Speech to Text: okay playing okay okay\n",
      "Next Sentence.. \n"
     ]
    }
   ],
   "source": [
    "for word in words:\n",
    "    speak.Speak(\"Ok Google\" + word)\n",
    "    with sr.Microphone() as source:\n",
    "        print(\"listening..\")\n",
    "        audio = r.listen(source)\n",
    "        print(\"Speech to Text: \" + r.recognize_google(audio))\n",
    "        print(\"Next Sentence.. \")\n",
    "\n",
    "    "
   ]
  },
  {
   "cell_type": "code",
   "execution_count": null,
   "metadata": {},
   "outputs": [],
   "source": [
    "#speak = wincl.Dispatch(\"SAPI.SpVoice\")\n",
    "speak.Speak(\"Ok Google\" + words[i])"
   ]
  },
  {
   "cell_type": "code",
   "execution_count": 32,
   "metadata": {},
   "outputs": [],
   "source": [
    "r = sr.Recognizer()"
   ]
  },
  {
   "cell_type": "code",
   "execution_count": 34,
   "metadata": {},
   "outputs": [
    {
     "name": "stdout",
     "output_type": "stream",
     "text": [
      "Say Something\n",
      "Time over\n",
      "Speech to Text: what is the weather\n"
     ]
    }
   ],
   "source": [
    "with sr.Microphone() as source:\n",
    "    print(\"Say Something\")\n",
    "    audio = r.listen(source)\n",
    "    print(\"Time over\")\n",
    "       \n",
    "try:\n",
    "    print(\"Speech to Text: \" + r.recognize_google(audio))\n",
    "except:\n",
    "    pass\n",
    "\n"
   ]
  }
 ],
 "metadata": {
  "kernelspec": {
   "display_name": "Python 3",
   "language": "python",
   "name": "python3"
  },
  "language_info": {
   "codemirror_mode": {
    "name": "ipython",
    "version": 3
   },
   "file_extension": ".py",
   "mimetype": "text/x-python",
   "name": "python",
   "nbconvert_exporter": "python",
   "pygments_lexer": "ipython3",
   "version": "3.6.5"
  }
 },
 "nbformat": 4,
 "nbformat_minor": 2
}
