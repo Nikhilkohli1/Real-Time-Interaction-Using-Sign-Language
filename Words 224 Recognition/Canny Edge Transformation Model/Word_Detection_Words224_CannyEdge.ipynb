{
  "nbformat": 4,
  "nbformat_minor": 0,
  "metadata": {
    "colab": {
      "name": "Word_Detection_Words224_CannyEdge.ipynb",
      "version": "0.3.2",
      "provenance": [],
      "collapsed_sections": [],
      "toc_visible": true
    },
    "language_info": {
      "codemirror_mode": {
        "name": "ipython",
        "version": 3
      },
      "file_extension": ".py",
      "mimetype": "text/x-python",
      "name": "python",
      "nbconvert_exporter": "python",
      "pygments_lexer": "ipython3",
      "version": "3.6.5"
    },
    "kernelspec": {
      "display_name": "Python 3",
      "language": "python",
      "name": "python3"
    },
    "accelerator": "GPU"
  },
  "cells": [
    {
      "metadata": {
        "colab_type": "code",
        "id": "lEj4gbIdSOUA",
        "colab": {}
      },
      "cell_type": "code",
      "source": [
        " rm -rf Dataset_Colored/"
      ],
      "execution_count": 0,
      "outputs": []
    },
    {
      "metadata": {
        "colab_type": "code",
        "id": "bucNmmXwFn7A",
        "outputId": "72d95246-6357-4d9b-bd51-88d46a6836f8",
        "colab": {
          "base_uri": "https://localhost:8080/",
          "height": 120
        }
      },
      "cell_type": "code",
      "source": [
        "!git clone https://github.com/Nikhilkohli1/Dataset_Colored.git"
      ],
      "execution_count": 2,
      "outputs": [
        {
          "output_type": "stream",
          "text": [
            "Cloning into 'Dataset_Colored'...\n",
            "remote: Enumerating objects: 221703, done.\u001b[K\n",
            "remote: Total 221703 (delta 0), reused 0 (delta 0), pack-reused 221703\n",
            "Receiving objects: 100% (221703/221703), 1.60 GiB | 39.71 MiB/s, done.\n",
            "Resolving deltas: 100% (446/446), done.\n",
            "Checking out files: 100% (221786/221786), done.\n"
          ],
          "name": "stdout"
        }
      ]
    },
    {
      "metadata": {
        "colab_type": "code",
        "id": "OYeAgFhwR35h",
        "colab": {}
      },
      "cell_type": "code",
      "source": [
        "#!pip install tqdm"
      ],
      "execution_count": 0,
      "outputs": []
    },
    {
      "metadata": {
        "colab_type": "code",
        "id": "Pfl8CcywGDqf",
        "colab": {}
      },
      "cell_type": "code",
      "source": [
        "import os, cv2, math\n",
        "from keras.models import Sequential\n",
        "from keras.layers import Conv2D\n",
        "from keras.layers import MaxPooling2D\n",
        "from keras.layers import Flatten\n",
        "from keras.layers import Dense\n",
        "from keras.layers import Dropout\n",
        "from keras.preprocessing.image import ImageDataGenerator\n",
        "from keras.utils import plot_model\n",
        "import numpy as np\n",
        "from keras.preprocessing import image\n",
        "from sklearn.model_selection import train_test_split\n",
        "from shutil import copyfile\n",
        "from tqdm import tqdm\n",
        "import matplotlib.pyplot as plt\n",
        "import matplotlib.image as mpimg\n",
        "from keras.optimizers import Adam\n",
        "%matplotlib inline"
      ],
      "execution_count": 0,
      "outputs": []
    },
    {
      "metadata": {
        "colab_type": "code",
        "id": "ScD5S2fcGJPB",
        "outputId": "fc72b026-c76c-4ed0-eb06-9a7215745b08",
        "colab": {
          "base_uri": "https://localhost:8080/",
          "height": 189
        }
      },
      "cell_type": "code",
      "source": [
        "path = \"Dataset_Colored/Examples_Words_CE/\"\n",
        "gesture_list = []\n",
        "for file in os.listdir(path):\n",
        "    if \"_\" in file[8::][:-4]:\n",
        "        gesture_list.append(file[8::][:-4].replace('_', ' '))\n",
        "    else:\n",
        "        gesture_list.append(file[8::][:-4])\n",
        "gesture_list"
      ],
      "execution_count": 5,
      "outputs": [
        {
          "output_type": "execute_result",
          "data": {
            "text/plain": [
              "['a Joke',\n",
              " 'Music',\n",
              " 'the Time',\n",
              " 'plus',\n",
              " 'the Weather',\n",
              " 'What is',\n",
              " 'Tell me',\n",
              " 'Ok Google',\n",
              " 'two',\n",
              " 'Play some']"
            ]
          },
          "metadata": {
            "tags": []
          },
          "execution_count": 5
        }
      ]
    },
    {
      "metadata": {
        "colab_type": "text",
        "id": "5SUkm-Pg8GTR"
      },
      "cell_type": "markdown",
      "source": [
        "This project is run using google collab GPU."
      ]
    },
    {
      "metadata": {
        "colab_type": "code",
        "id": "qm6AXkB7SZqh",
        "outputId": "97a2e4b3-4f36-43ec-e310-c57607e826ab",
        "colab": {
          "base_uri": "https://localhost:8080/",
          "height": 879
        }
      },
      "cell_type": "code",
      "source": [
        "path = \"Dataset_Colored/Examples_Words_CE/\"\n",
        "gesture_list = []\n",
        "for file in os.listdir(path):\n",
        "    if \"_\" in file[8::][:-4]:\n",
        "        gesture_list.append(file[8::][:-4].replace('_', ' '))\n",
        "    else:\n",
        "        gesture_list.append(file[8::][:-4])\n",
        "gesture_list.sort()\n",
        "nrow, ncol = 5, 2\n",
        "plt.rcParams['figure.figsize'] = (ncol*3, nrow*3)\n",
        "for row in range(nrow):\n",
        "    for col in range(ncol):\n",
        "        img_index = row*ncol+col\n",
        "        # load image\n",
        "        img = image.load_img('Dataset_Colored/Examples_Words_CE/example_' + gesture_list[img_index] + '.jpg', target_size = (224, 224))\n",
        "        plt.subplot(nrow, ncol, img_index + 1)\n",
        "        plt.imshow(img)\n",
        "        plt.title(gesture_list[img_index])\n",
        "        plt.axis('off')"
      ],
      "execution_count": 6,
      "outputs": [
        {
          "output_type": "display_data",
          "data": {
            "image/png": "[encoded data removed]",
            "text/plain": [
              "<Figure size 432x1080 with 10 Axes>"
            ]
          },
          "metadata": {
            "tags": []
          }
        }
      ]
    },
    {
      "metadata": {
        "colab_type": "text",
        "id": "YGZTjhOfBt6I"
      },
      "cell_type": "markdown",
      "source": [
        "This project aims to create a classifier that can intepret sign language for few words which we will train the model on. The image of the sign language for respective word is shown above.\n",
        "\n",
        "Inside 'Sign-Language-Digits-Dataset/Dataset/', the images of different sign language are organised according to their labels. The dataset will first be divided into 3 sets : training_set, validation_set, and test_set. The size of training set, validation set, and test set are 70%, 15% and 15% of the whole dataset respectively.\n",
        "\n",
        "To accomodate for the requirement for flow_from_directory method from keras, I will reorganise the images in the following structure :\n",
        "\n",
        "* Training set : 'Sign-Language-Digits-Dataset/Dataset/training_set/class_00/image_file'\n",
        "* Validation set : 'Sign-Language-Digits-Dataset/Dataset/validation_set/class_00/image_file'\n",
        "* Test set : 'Sign-Language-Digits-Dataset/Dataset/test_set/class_00/image_file'"
      ]
    },
    {
      "metadata": {
        "colab_type": "code",
        "id": "i50M_c5UIRw4",
        "colab": {}
      },
      "cell_type": "code",
      "source": [
        "DATASET_PATH = 'Dataset_Colored/Words224_CE/'"
      ],
      "execution_count": 0,
      "outputs": []
    },
    {
      "metadata": {
        "colab_type": "code",
        "id": "sv8GUNDtN8yN",
        "colab": {}
      },
      "cell_type": "code",
      "source": [
        "# Creating a list of filename for training set, validation set, and test set\n",
        "train_set = {}\n",
        "validation_set = {}\n",
        "test_set = {}\n",
        "for cat in os.listdir(DATASET_PATH):\n",
        "    cat_dir = os.path.join(DATASET_PATH, cat) # e.g. DATASET_PATH/'0'\n",
        "    cat_files = os.listdir(cat_dir)\n",
        "      # Training set's size is 60% of the data\n",
        "    train_list , test_list = train_test_split(cat_files, test_size = 0.3)\n",
        "      # Validation set's and Test set's size are both 15% of the data\n",
        "    validation_list, test_list = train_test_split(test_list, test_size = 0.5)\n",
        "    train_set[cat] = train_list\n",
        "    validation_set[cat] = validation_list\n",
        "    test_set[cat] = test_list"
      ],
      "execution_count": 0,
      "outputs": []
    },
    {
      "metadata": {
        "colab_type": "code",
        "id": "CrIiHuI1QQzB",
        "outputId": "d33cc572-e652-4792-fbc2-1c8180ef0a68",
        "colab": {
          "base_uri": "https://localhost:8080/",
          "height": 34
        }
      },
      "cell_type": "code",
      "source": [
        "for cat in tqdm(train_set.keys()):\n",
        "    cat_dir = os.path.join(DATASET_PATH, 'training_set', 'class_' + str(cat))\n",
        "    os.makedirs(cat_dir)\n",
        "    for file in train_set[cat]:\n",
        "        src = os.path.join(DATASET_PATH, cat, file)\n",
        "    # dest path is DATASET_PATH/'training_set'/'class_00'\n",
        "    # to accomodate for the directory format required by flow_from_directory method in keras\n",
        "        dest = os.path.join(cat_dir, file)\n",
        "        copyfile(src, dest)"
      ],
      "execution_count": 9,
      "outputs": [
        {
          "output_type": "stream",
          "text": [
            "100%|██████████| 10/10 [00:01<00:00,  9.72it/s]\n"
          ],
          "name": "stderr"
        }
      ]
    },
    {
      "metadata": {
        "colab_type": "code",
        "id": "-7pxPFxBQzX5",
        "outputId": "64ef2048-afb1-4c99-de96-ea11a03daf5e",
        "colab": {
          "base_uri": "https://localhost:8080/",
          "height": 34
        }
      },
      "cell_type": "code",
      "source": [
        "for cat in tqdm(validation_set.keys()):\n",
        "    cat_dir = os.path.join(DATASET_PATH, 'validation_set', 'class_' + str(cat))\n",
        "    os.makedirs(cat_dir)\n",
        "    for file in validation_set[cat]:\n",
        "        src = os.path.join(DATASET_PATH, cat, file)\n",
        "        # dest path is DATASET_PATH/'validation_set'/'class_00'\n",
        "        # to accomodate for the directory format required by flow_from_directory method in keras\n",
        "        dest = os.path.join(cat_dir, file)\n",
        "        copyfile(src, dest)"
      ],
      "execution_count": 10,
      "outputs": [
        {
          "output_type": "stream",
          "text": [
            "100%|██████████| 10/10 [00:00<00:00, 24.14it/s]\n"
          ],
          "name": "stderr"
        }
      ]
    },
    {
      "metadata": {
        "colab_type": "code",
        "id": "W6kXrvX7R-eW",
        "outputId": "b28841f9-e6c2-4a3f-eb76-3e5c220afa36",
        "colab": {
          "base_uri": "https://localhost:8080/",
          "height": 34
        }
      },
      "cell_type": "code",
      "source": [
        "for cat in tqdm(test_set.keys()):\n",
        "    cat_dir = os.path.join(DATASET_PATH, 'test_set', 'class_' + str(cat))\n",
        "    os.makedirs(cat_dir)\n",
        "    for file in test_set[cat]:\n",
        "        src = os.path.join(DATASET_PATH, cat, file)\n",
        "    # dest path is DATASET_PATH/'test_set'/'class_00'\n",
        "    # to accomodate for the directory format required by flow_from_directory method in keras\n",
        "        dest = os.path.join(cat_dir, file)\n",
        "        copyfile(src, dest)"
      ],
      "execution_count": 11,
      "outputs": [
        {
          "output_type": "stream",
          "text": [
            "100%|██████████| 10/10 [00:00<00:00, 42.36it/s]\n"
          ],
          "name": "stderr"
        }
      ]
    },
    {
      "metadata": {
        "colab_type": "code",
        "id": "K4gNNxDSDvR1",
        "outputId": "26793c00-aaa7-4eac-8cb4-b96150361280",
        "colab": {
          "base_uri": "https://localhost:8080/",
          "height": 189
        }
      },
      "cell_type": "code",
      "source": [
        "for gesture in gesture_list:\n",
        "    train_size = len(train_set[gesture])\n",
        "    validation_size = len(validation_set[gesture])\n",
        "    test_size = len(test_set[gesture])\n",
        "    print(\"{} : Training size({}) Validation size({}) Test size({})\".format(gesture, train_size, validation_size, test_size))"
      ],
      "execution_count": 12,
      "outputs": [
        {
          "output_type": "stream",
          "text": [
            "Music : Training size(1360) Validation size(292) Test size(292)\n",
            "Ok Google : Training size(1386) Validation size(297) Test size(298)\n",
            "Play some : Training size(1379) Validation size(296) Test size(296)\n",
            "Tell me : Training size(1400) Validation size(300) Test size(300)\n",
            "What is : Training size(1400) Validation size(300) Test size(300)\n",
            "a Joke : Training size(1304) Validation size(279) Test size(280)\n",
            "plus : Training size(1115) Validation size(239) Test size(239)\n",
            "the Time : Training size(1386) Validation size(297) Test size(297)\n",
            "the Weather : Training size(1381) Validation size(296) Test size(297)\n",
            "two : Training size(1050) Validation size(225) Test size(225)\n"
          ],
          "name": "stdout"
        }
      ]
    },
    {
      "metadata": {
        "colab_type": "text",
        "id": "dZaVAOJhDm74"
      },
      "cell_type": "markdown",
      "source": [
        "Data augmentation is performed on the training set images so that the classifier can learn any changes with respect to scaling, horizontal_flip, or others."
      ]
    },
    {
      "metadata": {
        "colab_type": "code",
        "id": "DxpVYgYEJohm",
        "outputId": "28cee422-77bd-4279-fce9-d399b6d8ed2a",
        "colab": {
          "base_uri": "https://localhost:8080/",
          "height": 68
        }
      },
      "cell_type": "code",
      "source": [
        "# Performing data augmentation on training dataset\n",
        "train_datagen = ImageDataGenerator(rescale = 1./255,\n",
        "                                   shear_range = 0.2,\n",
        "                                   zoom_range = 0.2,\n",
        "                                   horizontal_flip = True)\n",
        "\n",
        "# For validation dataset, only rescale the pictures\n",
        "validation_datagen = ImageDataGenerator(rescale = 1./255)\n",
        "\n",
        "# For test dataset, only rescale the pictures\n",
        "test_datagen = ImageDataGenerator(rescale = 1./255)\n",
        "\n",
        "training_data = train_datagen.flow_from_directory(os.path.join(DATASET_PATH, 'training_set'),\n",
        "                                                 target_size = (224, 224),\n",
        "                                                 batch_size = 32,\n",
        "                                                 class_mode = 'categorical')\n",
        "\n",
        "validation_data = validation_datagen.flow_from_directory(os.path.join(DATASET_PATH, 'validation_set'),\n",
        "                                                 target_size = (224, 224),\n",
        "                                                 batch_size = 32,\n",
        "                                                 class_mode = 'categorical')\n",
        "\n",
        "test_data = test_datagen.flow_from_directory(os.path.join(DATASET_PATH, 'test_set'),\n",
        "                                            target_size = (224, 224),\n",
        "                                            batch_size = 32,\n",
        "                                            class_mode = 'categorical')"
      ],
      "execution_count": 13,
      "outputs": [
        {
          "output_type": "stream",
          "text": [
            "Found 13161 images belonging to 10 classes.\n",
            "Found 2821 images belonging to 10 classes.\n",
            "Found 2824 images belonging to 10 classes.\n"
          ],
          "name": "stdout"
        }
      ]
    },
    {
      "metadata": {
        "colab_type": "text",
        "id": "xHZGokyeA14a"
      },
      "cell_type": "markdown",
      "source": [
        "For this dataset, I will be using the following infrastructure.\n",
        "\n"
      ]
    },
    {
      "metadata": {
        "colab_type": "code",
        "id": "bgmvhfPCJYGW",
        "outputId": "624873d8-b9a6-45a0-833d-88b3cb061bf1",
        "colab": {
          "base_uri": "https://localhost:8080/",
          "height": 552
        }
      },
      "cell_type": "code",
      "source": [
        "# Initialising the CNN\n",
        "classifier = Sequential()\n",
        "\n",
        "# Adding first convolutional layer, followed by pooling, and dropout\n",
        "classifier.add(Conv2D(32, (3, 3), input_shape = (224, 224, 3), activation = 'relu'))\n",
        "classifier.add(MaxPooling2D(pool_size = (2, 2)))\n",
        "classifier.add(Dropout(0.35))\n",
        "\n",
        "# Adding second convolutional layer, followed by pooling, and dropout\n",
        "classifier.add(Conv2D(64, (3, 3), activation = 'relu'))\n",
        "classifier.add(MaxPooling2D(pool_size = (2, 2)))\n",
        "classifier.add(Dropout(0.3))\n",
        "\n",
        "# Adding third convolutional layer, followed by pooling, and dropout\n",
        "classifier.add(Conv2D(64, (3, 3), activation = 'relu'))\n",
        "classifier.add(MaxPooling2D(pool_size = (2, 2)))\n",
        "classifier.add(Dropout(0.25))\n",
        "\n",
        "# Flattening\n",
        "classifier.add(Flatten())\n",
        "\n",
        "# Full connection\n",
        "classifier.add(Dense(units = 128, activation = 'relu'))\n",
        "classifier.add(Dense(units = 10, activation = 'softmax'))\n",
        "\n",
        "# Compiling the CNN\n",
        "classifier.compile(optimizer = Adam(lr=0.0001), loss = 'categorical_crossentropy', metrics = ['accuracy'])\n",
        "\n",
        "classifier.summary()"
      ],
      "execution_count": 18,
      "outputs": [
        {
          "output_type": "stream",
          "text": [
            "_________________________________________________________________\n",
            "Layer (type)                 Output Shape              Param #   \n",
            "=================================================================\n",
            "conv2d_7 (Conv2D)            (None, 222, 222, 32)      896       \n",
            "_________________________________________________________________\n",
            "max_pooling2d_7 (MaxPooling2 (None, 111, 111, 32)      0         \n",
            "_________________________________________________________________\n",
            "dropout_7 (Dropout)          (None, 111, 111, 32)      0         \n",
            "_________________________________________________________________\n",
            "conv2d_8 (Conv2D)            (None, 109, 109, 64)      18496     \n",
            "_________________________________________________________________\n",
            "max_pooling2d_8 (MaxPooling2 (None, 54, 54, 64)        0         \n",
            "_________________________________________________________________\n",
            "dropout_8 (Dropout)          (None, 54, 54, 64)        0         \n",
            "_________________________________________________________________\n",
            "conv2d_9 (Conv2D)            (None, 52, 52, 64)        36928     \n",
            "_________________________________________________________________\n",
            "max_pooling2d_9 (MaxPooling2 (None, 26, 26, 64)        0         \n",
            "_________________________________________________________________\n",
            "dropout_9 (Dropout)          (None, 26, 26, 64)        0         \n",
            "_________________________________________________________________\n",
            "flatten_3 (Flatten)          (None, 43264)             0         \n",
            "_________________________________________________________________\n",
            "dense_5 (Dense)              (None, 128)               5537920   \n",
            "_________________________________________________________________\n",
            "dense_6 (Dense)              (None, 10)                1290      \n",
            "=================================================================\n",
            "Total params: 5,595,530\n",
            "Trainable params: 5,595,530\n",
            "Non-trainable params: 0\n",
            "_________________________________________________________________\n"
          ],
          "name": "stdout"
        }
      ]
    },
    {
      "metadata": {
        "colab_type": "code",
        "id": "3j_2J4W-StkO",
        "outputId": "53f6187f-8628-49dd-bdf4-8c74d8af3984",
        "colab": {
          "base_uri": "https://localhost:8080/",
          "height": 362
        }
      },
      "cell_type": "code",
      "source": [
        "# Train the data with training set, and check the result with validation accuracy\n",
        "history = classifier.fit_generator(training_data,\n",
        "                         steps_per_epoch = math.ceil(training_data.n / training_data.batch_size),\n",
        "                         epochs = 10,\n",
        "                         validation_data = validation_data,\n",
        "                         validation_steps = math.ceil(validation_data.n / validation_data.batch_size))"
      ],
      "execution_count": 19,
      "outputs": [
        {
          "output_type": "stream",
          "text": [
            "Epoch 1/10\n",
            "412/412 [==============================] - 141s 341ms/step - loss: 0.3267 - acc: 0.9029 - val_loss: 0.0286 - val_acc: 0.9918\n",
            "Epoch 2/10\n",
            "412/412 [==============================] - 139s 336ms/step - loss: 0.0491 - acc: 0.9858 - val_loss: 0.0052 - val_acc: 0.9986\n",
            "Epoch 3/10\n",
            "412/412 [==============================] - 137s 333ms/step - loss: 0.0179 - acc: 0.9945 - val_loss: 0.0025 - val_acc: 0.9993\n",
            "Epoch 4/10\n",
            "412/412 [==============================] - 139s 336ms/step - loss: 0.0140 - acc: 0.9956 - val_loss: 0.0014 - val_acc: 1.0000\n",
            "Epoch 5/10\n",
            "412/412 [==============================] - 137s 333ms/step - loss: 0.0102 - acc: 0.9962 - val_loss: 0.0029 - val_acc: 0.9986\n",
            "Epoch 6/10\n",
            "412/412 [==============================] - 140s 339ms/step - loss: 0.0092 - acc: 0.9973 - val_loss: 1.1687e-04 - val_acc: 1.0000\n",
            "Epoch 7/10\n",
            "412/412 [==============================] - 136s 330ms/step - loss: 0.0071 - acc: 0.9979 - val_loss: 1.8184e-04 - val_acc: 1.0000\n",
            "Epoch 8/10\n",
            "412/412 [==============================] - 140s 339ms/step - loss: 0.0038 - acc: 0.9984 - val_loss: 1.9941e-04 - val_acc: 1.0000\n",
            "Epoch 9/10\n",
            "412/412 [==============================] - 137s 333ms/step - loss: 0.0073 - acc: 0.9976 - val_loss: 1.1441e-04 - val_acc: 1.0000\n",
            "Epoch 10/10\n",
            "412/412 [==============================] - 137s 332ms/step - loss: 0.0028 - acc: 0.9991 - val_loss: 4.1602e-05 - val_acc: 1.0000\n"
          ],
          "name": "stdout"
        }
      ]
    },
    {
      "metadata": {
        "colab_type": "code",
        "id": "5itEknXl32yH",
        "outputId": "54c54cf7-3cad-4fe5-b7e5-2bb97f08ec8f",
        "colab": {
          "base_uri": "https://localhost:8080/",
          "height": 312
        }
      },
      "cell_type": "code",
      "source": [
        "plt.plot(history.history['acc'])\n",
        "plt.plot(history.history['val_acc'])\n",
        "plt.title('Model Accuracy')\n",
        "plt.ylabel('accuracy')\n",
        "plt.xlabel('epoch')\n",
        "plt.legend(['Training', 'Validation'])"
      ],
      "execution_count": 20,
      "outputs": [
        {
          "output_type": "execute_result",
          "data": {
            "text/plain": [
              "<matplotlib.legend.Legend at 0x7ff29f9b9d30>"
            ]
          },
          "metadata": {
            "tags": []
          },
          "execution_count": 20
        },
        {
          "output_type": "display_data",
          "data": {
            "image/png": "[encoded data removed]",
            "text/plain": [
              "<Figure size 432x288 with 1 Axes>"
            ]
          },
          "metadata": {
            "tags": []
          }
        }
      ]
    },
    {
      "metadata": {
        "colab_type": "text",
        "id": "Zp8daCyG-OFM"
      },
      "cell_type": "markdown",
      "source": [
        "From the accuracy plot, the validation accuracy differs from the training accuracy by a small extent indicating absence of overfitting. When the classifier is evaluated on the test set, it obtains a relatively high accuracy."
      ]
    },
    {
      "metadata": {
        "colab_type": "code",
        "id": "8zHPnXF8TAkp",
        "outputId": "40cae455-1d72-4aa1-a289-9fafa2cf3a4d",
        "colab": {
          "base_uri": "https://localhost:8080/",
          "height": 34
        }
      },
      "cell_type": "code",
      "source": [
        "# Accuracy of the classifier when evaluated based on the test_set\n",
        "test_loss, test_accuracy = classifier.evaluate_generator(test_data, math.ceil(test_data.n / test_data.batch_size))\n",
        "print(\"Accuracy on test set : {}\".format(test_accuracy))"
      ],
      "execution_count": 21,
      "outputs": [
        {
          "output_type": "stream",
          "text": [
            "Accuracy on test set : 1.0\n"
          ],
          "name": "stdout"
        }
      ]
    },
    {
      "metadata": {
        "colab_type": "text",
        "id": "jadQJ8gG_S9z"
      },
      "cell_type": "markdown",
      "source": [
        "To visualise the performance of the classifier, the classifier will be used to predict all the example images for 0 to 9."
      ]
    },
    {
      "metadata": {
        "colab_type": "code",
        "id": "cCNwHiSoUtZN",
        "outputId": "92e495d5-92d1-47f0-954f-3b3d1f30bd6c",
        "colab": {
          "base_uri": "https://localhost:8080/",
          "height": 281
        }
      },
      "cell_type": "code",
      "source": [
        "nrow, ncol = 5, 2\n",
        "# plt.rcParams['figure.figsize'] = (ncol*3, nrow*3)\n",
        "for row in range(nrow):\n",
        "    for col in range(ncol):\n",
        "        img_index = row*ncol+col\n",
        "        # load image\n",
        "#         print(img_index)\n",
        "#         path = \"Gestures-Dataset/Examples/example_\" + gesture_list[img_index] + \".jpg\"\n",
        "#         print(\"Path: \",path)\n",
        "        img = image.load_img('Dataset_Colored/Examples_Words224/example_' + gesture_list[img_index] + '.jpg', target_size = (224, 224))\n",
        "#         plt.imshow(img)\n",
        "        # convert image into array for prediction\n",
        "        test_image = image.img_to_array(img)\n",
        "        test_image = np.expand_dims(test_image, axis = 0)\n",
        "        # predict image using classifier\n",
        "        result = classifier.predict(test_image).argmax()\n",
        "        plt.subplot(nrow, ncol, img_index + 1)\n",
        "        plt.imshow(img)\n",
        "        plt.title(\"Actual({}) Predicted({})\".format(gesture_list[img_index], gesture_list[result]))\n",
        "        plt.axis('off')"
      ],
      "execution_count": 22,
      "outputs": [
        {
          "output_type": "display_data",
          "data": {
            "image/png": "[encoded data removed]",
            "text/plain": [
              "<Figure size 432x288 with 10 Axes>"
            ]
          },
          "metadata": {
            "tags": []
          }
        }
      ]
    },
    {
      "metadata": {
        "colab_type": "text",
        "id": "EKDMAdyqKV_s"
      },
      "cell_type": "markdown",
      "source": [
        "It can be seen from above output that the classifier is able to classify all the images correctly. To save the model for future use, simply run the code below."
      ]
    },
    {
      "metadata": {
        "colab_type": "code",
        "id": "ZMQlEQ1RUP50",
        "outputId": "a12b49f0-9466-4ef1-8aa9-614cc261fe3b",
        "colab": {
          "base_uri": "https://localhost:8080/",
          "height": 34
        }
      },
      "cell_type": "code",
      "source": [
        "# save the models and weight for future purposes\n",
        "# serialize model to JSON\n",
        "model_json = classifier.to_json()\n",
        "with open(\"model_words_CE.json\", \"w\") as json_file:\n",
        "    json_file.write(model_json)\n",
        "# serialize weights to HDF5\n",
        "classifier.save(\"model_words_CE.h5\")\n",
        "print(\"Saved model to disk\")"
      ],
      "execution_count": 23,
      "outputs": [
        {
          "output_type": "stream",
          "text": [
            "Saved model to disk\n"
          ],
          "name": "stdout"
        }
      ]
    },
    {
      "metadata": {
        "colab_type": "code",
        "id": "-XbYwjKcAe7g",
        "outputId": "495fd3fb-7c1c-4bcd-c110-33098069a179",
        "colab": {
          "base_uri": "https://localhost:8080/",
          "height": 34
        }
      },
      "cell_type": "code",
      "source": [
        "import keras\n",
        "print(keras.__version__)"
      ],
      "execution_count": 0,
      "outputs": [
        {
          "output_type": "stream",
          "text": [
            "2.2.4\n"
          ],
          "name": "stdout"
        }
      ]
    },
    {
      "metadata": {
        "colab_type": "text",
        "id": "UxFOs2N_LYxg"
      },
      "cell_type": "markdown",
      "source": [
        "# Reference\n",
        "\n",
        "* https://github.com/ardamavi/Sign-Language-Digits-Dataset\n",
        "* https://www.superdatascience.com/deep-learning/"
      ]
    }
  ]
}